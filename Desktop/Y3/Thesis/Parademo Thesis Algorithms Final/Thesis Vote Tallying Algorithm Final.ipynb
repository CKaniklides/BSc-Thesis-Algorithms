{
  "nbformat": 4,
  "nbformat_minor": 0,
  "metadata": {
    "colab": {
      "provenance": []
    },
    "kernelspec": {
      "name": "python3",
      "display_name": "Python 3"
    },
    "language_info": {
      "name": "python"
    }
  },
  "cells": [
    {
      "cell_type": "code",
      "execution_count": 3,
      "metadata": {
        "colab": {
          "base_uri": "https://localhost:8080/"
        },
        "id": "9JYOpQw7Wai2",
        "outputId": "50e7f658-e05a-44b3-e0ec-fcaf6022b5d9"
      },
      "outputs": [
        {
          "output_type": "stream",
          "name": "stdout",
          "text": [
            "Test (a):  FOR:1 | AGAINST:1 | ABSTAIN:1 | NOT_VOTED:0\n",
            "Test (b):  FOR:3 | AGAINST:1 | ABSTAIN:0 | NOT_VOTED:0\n",
            "Test (c):  FOR:0 | AGAINST:1 | ABSTAIN:0 | NOT_VOTED:3\n",
            "Test (d):  FOR:0 | AGAINST:0 | ABSTAIN:5 | NOT_VOTED:0\n",
            "Test (e):  FOR:200808 | AGAINST:199887 | ABSTAIN:199114 | NOT_VOTED:400191 (resolved in 1.096s)\n",
            "\n",
            "All vote-tally tests passed.\n"
          ]
        }
      ],
      "source": [
        "# B2 - VOTE TALLYING ALGORITHM & UNIT TESTS #\n",
        "import random, time\n",
        "# ------------------------------------------------------------------\n",
        "# tally_votes(): sum token weights per option\n",
        "# ------------------------------------------------------------------\n",
        "def tally_votes(final_holders, votes):\n",
        "    # count how many tokens each final holder controls\n",
        "    weight = {}\n",
        "    for user, holder in final_holders.items():\n",
        "        weight[holder] = weight.get(holder, 0) + 1\n",
        "\n",
        "    result = {'FOR': 0, 'AGAINST': 0, 'ABSTAIN': 0, 'NOT_VOTED': 0}\n",
        "    for holder, w in weight.items():\n",
        "        choice = votes.get(holder)\n",
        "        if choice in ('FOR', 'AGAINST', 'ABSTAIN'):\n",
        "            result[choice] += w\n",
        "        else:                                    # holder failed to vote\n",
        "            result['NOT_VOTED'] += w\n",
        "    return result\n",
        "\n",
        "# ------------------------------------------------------------------\n",
        "# Verbose test-suite\n",
        "# ------------------------------------------------------------------\n",
        "def pretty(res):\n",
        "    return \" | \".join(f\"{k}:{v}\" for k, v in res.items())\n",
        "\n",
        "# (a) Simple no-delegation case\n",
        "final_a = {'A':'A','B':'B','C':'C'}\n",
        "votes_a = {'A':'FOR','B':'AGAINST','C':'ABSTAIN'}\n",
        "print(\"Test (a): \", pretty(tally_votes(final_a, votes_a)))\n",
        "\n",
        "# (b) Delegate C holds A & B and votes FOR\n",
        "final_b = {'A':'C','B':'C','C':'C','D':'D'}\n",
        "votes_b = {'C':'FOR','D':'AGAINST'}\n",
        "print(\"Test (b): \", pretty(tally_votes(final_b, votes_b)))\n",
        "\n",
        "# (c) Same as (b) but delegate C forgets to vote\n",
        "votes_c = {'D':'AGAINST'}               # C missing\n",
        "print(\"Test (c): \", pretty(tally_votes(final_b, votes_c)))\n",
        "\n",
        "# (d) All tokens delegated to E; E votes ABSTAIN\n",
        "final_d = {u:'E' for u in ['A','B','C','D','E']}\n",
        "votes_d = {'E':'ABSTAIN'}\n",
        "print(\"Test (d): \", pretty(tally_votes(final_d, votes_d)))\n",
        "\n",
        "# (e) 1 000 000-token random sanity check\n",
        "users = [f'U{i}' for i in range(1000000)]\n",
        "final_e = {u: random.choice(users) for u in users}     # random delegates\n",
        "votes_e = {u: random.choice(['FOR','AGAINST','ABSTAIN'])\n",
        "           for u in random.sample(users, 600000)}         # 60 % vote\n",
        "t0 = time.time()\n",
        "print(\"Test (e): \", pretty(tally_votes(final_e, votes_e)),\n",
        "      f\"(resolved in {time.time() - t0:.3f}s)\")\n",
        "\n",
        "print(\"\\nAll vote-tally tests passed.\")"
      ]
    }
  ]
}