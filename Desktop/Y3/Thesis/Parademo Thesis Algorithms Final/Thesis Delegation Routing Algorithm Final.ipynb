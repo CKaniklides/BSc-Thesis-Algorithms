{
  "nbformat": 4,
  "nbformat_minor": 0,
  "metadata": {
    "colab": {
      "provenance": []
    },
    "kernelspec": {
      "name": "python3",
      "display_name": "Python 3"
    },
    "language_info": {
      "name": "python"
    }
  },
  "cells": [
    {
      "cell_type": "code",
      "execution_count": 7,
      "metadata": {
        "colab": {
          "base_uri": "https://localhost:8080/"
        },
        "id": "2XyWpBxjd36w",
        "outputId": "f301bf63-4487-484e-e4c3-4c850d52772d"
      },
      "outputs": [
        {
          "output_type": "stream",
          "name": "stdout",
          "text": [
            "Test (a): {'A': 'E', 'B': 'E', 'C': 'E', 'D': 'E', 'E': 'E'}\n",
            "Test (b): sink → O\n",
            "Test (c):\n",
            "Cycle blocked: D → A\n",
            "Cycle blocked: W → U\n",
            "Test (d): {'P': 'R', 'Q': 'R', 'R': 'R', 'S': 'R', 'U': 'W', 'V': 'W'}\n",
            "Test (e): 1,000,000-node graph resolved in 1.209s\n",
            "\n",
            "All delegation-routing tests passed.\n"
          ]
        }
      ],
      "source": [
        "# B1 - DELEGATION ROUTING ALGORITHM & UNIT TESTS #\n",
        "import random, time\n",
        "# ------------------------------------------------------------------\n",
        "# add_delegation(): Adds src → dst unless it creates a cycle\n",
        "# ------------------------------------------------------------------\n",
        "def add_delegation(delegation, src, dst):\n",
        "    cur = dst\n",
        "    while cur is not None:\n",
        "        if cur == src:\n",
        "            raise ValueError(f\"Cycle blocked: {src} → {dst}\")\n",
        "        cur = delegation.get(cur)\n",
        "    delegation[src] = dst\n",
        "\n",
        "# ------------------------------------------------------------------\n",
        "# resolve_delegations(): Resolves chains to final voters with path compression\n",
        "# ------------------------------------------------------------------\n",
        "def resolve_delegations(delegation):\n",
        "    final = {}\n",
        "    for u in delegation:\n",
        "        # walk from u until you hit a terminal or a memoized node\n",
        "        path = []\n",
        "        v = u\n",
        "        while v not in final and delegation.get(v) is not None:\n",
        "            path.append(v)\n",
        "            v = delegation[v]\n",
        "        # v is now either in final or a terminal (delegation[v] is None)\n",
        "        root = final.get(v, v)\n",
        "        # path–compress\n",
        "        for x in path:\n",
        "            final[x] = root\n",
        "        # also remember u itself (in case path was empty)\n",
        "        final[u] = root\n",
        "    return final\n",
        "\n",
        "# ------------------------------------------------------------------\n",
        "# Verbose test-suite\n",
        "# ------------------------------------------------------------------\n",
        "# a) Long chain  A→B→C→D→E\n",
        "chain = {'A':'B','B':'C','C':'D','D':'E','E':None}\n",
        "print(\"Test (a):\", resolve_delegations(chain))\n",
        "assert all(resolve_delegations(chain)[u] == 'E' for u in chain)\n",
        "\n",
        "# b) Three branches converging to a single sink\n",
        "branch = {'X':'M','Y':'M','Z':'M','M':'N','N':'O','O':None}\n",
        "print(\"Test (b): sink →\", set(resolve_delegations(branch).values()).pop())\n",
        "assert set(resolve_delegations(branch).values()) == {'O'}\n",
        "\n",
        "# c) Attempt to close a loop: D→A should be rejected\n",
        "safe = {'A':'B','B':'C','C':'D','D':None}\n",
        "try:\n",
        "    add_delegation(safe, 'D', 'A')\n",
        "except ValueError as e:\n",
        "    print(\"Test (c):\")\n",
        "    print(e)\n",
        "\n",
        "# d) Mixed graph: add S→Q (valid), block W→U (cycle)\n",
        "mixed = {'P':'Q','Q':'R','R':None}\n",
        "add_delegation(mixed, 'S', 'Q')          # merges into R\n",
        "mixed.update({'U':'V','V':'W'})\n",
        "try:\n",
        "    add_delegation(mixed, 'W', 'U')      # cycle blocked\n",
        "except ValueError as e:\n",
        "    print(e)\n",
        "print(\"Test (d):\", resolve_delegations(mixed))\n",
        "\n",
        "# e) Large random acyclic graph\n",
        "N = 1000000\n",
        "users = [f'U{i}' for i in range(N)]\n",
        "big   = {u: None for u in users}\n",
        "# Build graph in O(N)\n",
        "for i, src in enumerate(users):\n",
        "    if i > 0 and random.random() < 0.5:\n",
        "        dst = users[random.randrange(i)]\n",
        "        add_delegation(big, src, dst)\n",
        "\n",
        "t0 = time.time()\n",
        "out_big = resolve_delegations(big)\n",
        "print(f\"Test (e): {N:,}-node graph resolved in {time.time()-t0:.3f}s\")\n",
        "\n",
        "print(\"\\nAll delegation-routing tests passed.\")"
      ]
    }
  ]
}